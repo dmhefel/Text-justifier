{
 "cells": [
  {
   "cell_type": "code",
   "execution_count": 46,
   "metadata": {},
   "outputs": [
    {
     "name": "stdout",
     "output_type": "stream",
     "text": [
      "FILE='''I am  typing a bit  of nonsense in order to  test my\n",
      "text justification   program.   The goal is to split a  file\n",
      "into paragraphs using a unique separator,  and then for each\n",
      "paragraph, split it into  lines  and add spaces so the  each\n",
      "line       prints        the         same            length.\n",
      "\n",
      "We are ignoring punctuation  and  carriage returns. The only\n",
      "caveat is  that if the last line only has one word in it, it\n",
      "should             be       left                  justified.\n",
      "\n",
      "The  goal of the program is to  be a primitive simulation of\n",
      "one of  the  functions   of  a  word processor,   the   most\n",
      "ubiquitous of software applications  which used  to  have  a\n",
      "vibrant ecosystem of variants, but which has  collapsed into\n",
      "a monopoly governed by Microsoft word. Other  parts of  word\n",
      "processing   require  paging   files into     buffers, spell\n",
      "checking, display    management  and keyboard processing.'''\n",
      "\n"
     ]
    }
   ],
   "source": [
    "import random\n",
    "\n",
    "FILE = 'justify.py'\n",
    "LENGTH = 60 #I changed functions to have the length be a constant\n",
    "\n",
    "def processpara():\n",
    "    lst = [] \n",
    "    with open(FILE) as f:\n",
    "        f = f.read().split('\\n\\n')\n",
    "        for p in f: \n",
    "            lst.append(p.split())\n",
    "    return lst\n",
    "\n",
    "def getline(words):\n",
    "        line=[]\n",
    "        line_length=0\n",
    "        while (LENGTH>line_length) and 0 != len(words):\n",
    "            word=words.pop(0)\n",
    "            line_length += len(word)+1\n",
    "            line.append(word)\n",
    "        if line_length > LENGTH:\n",
    "            words.insert(0, line.pop())\n",
    "        return line\n",
    "\n",
    "def printpara(words):\n",
    "    while words: \n",
    "        line = getline(words)\n",
    "        spaces = [1]*len(line)\n",
    "        spaces[-1] = 0\n",
    "        addspace(line, spaces)\n",
    "        for i in range(len(line)):\n",
    "            print(line[i],end='')\n",
    "            print(' '*spaces[i], end='')\n",
    "        print()\n",
    "        \n",
    "def addspace(line, spaces): \n",
    "    linelength = 0\n",
    "    for word in line:\n",
    "        linelength += len(word)\n",
    "    linelength+= sum(spaces)\n",
    "    while linelength< LENGTH:\n",
    "        spaces[random.randint(0,len(spaces)-2)]+=1 #-2 so not added at the end\n",
    "        linelength+=1\n",
    "    \n",
    "\n",
    "def main():\n",
    "    paras = processpara()\n",
    "    for para in paras:\n",
    "        printpara(para)\n",
    "        print()\n",
    "        \n",
    "main()"
   ]
  }
 ],
 "metadata": {
  "kernelspec": {
   "display_name": "Python 3",
   "language": "python",
   "name": "python3"
  },
  "language_info": {
   "codemirror_mode": {
    "name": "ipython",
    "version": 3
   },
   "file_extension": ".py",
   "mimetype": "text/x-python",
   "name": "python",
   "nbconvert_exporter": "python",
   "pygments_lexer": "ipython3",
   "version": "3.7.2"
  }
 },
 "nbformat": 4,
 "nbformat_minor": 4
}
